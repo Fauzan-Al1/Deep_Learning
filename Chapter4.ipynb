{
  "nbformat": 4,
  "nbformat_minor": 0,
  "metadata": {
    "colab": {
      "provenance": [],
      "authorship_tag": "ABX9TyO85zjMEoqhnW56t+RM3mCe",
      "include_colab_link": true
    },
    "kernelspec": {
      "name": "python3",
      "display_name": "Python 3"
    },
    "language_info": {
      "name": "python"
    }
  },
  "cells": [
    {
      "cell_type": "markdown",
      "metadata": {
        "id": "view-in-github",
        "colab_type": "text"
      },
      "source": [
        "<a href=\"https://colab.research.google.com/github/Fauzan-Al1/Deep_Learning/blob/main/chapter4.ipynb\" target=\"_parent\"><img src=\"https://colab.research.google.com/assets/colab-badge.svg\" alt=\"Open In Colab\"/></a>"
      ]
    },
    {
      "cell_type": "code",
      "execution_count": 1,
      "metadata": {
        "colab": {
          "base_uri": "https://localhost:8080/"
        },
        "id": "gUGIoRLPLIrU",
        "outputId": "af0e4a6a-14c2-49e0-db19-57a1429538a1"
      },
      "outputs": [
        {
          "output_type": "stream",
          "name": "stdout",
          "text": [
            "Intercept: [3.95540851], Coef: [[3.01242224]]\n"
          ]
        }
      ],
      "source": [
        "# Linear Regression (Normal Equation)\n",
        "import numpy as np\n",
        "import matplotlib.pyplot as plt\n",
        "from sklearn.linear_model import LinearRegression\n",
        "\n",
        "# Generate data: y = 4 + 3x + noise\n",
        "X = 2 * np.random.rand(100, 1)\n",
        "y = 4 + 3 * X + np.random.randn(100, 1)\n",
        "\n",
        "# Linear Regression via scikit-learn\n",
        "lin_reg = LinearRegression()\n",
        "lin_reg.fit(X, y)\n",
        "\n",
        "print(f\"Intercept: {lin_reg.intercept_}, Coef: {lin_reg.coef_}\")"
      ]
    },
    {
      "cell_type": "code",
      "source": [
        "# Implementasi manual Gradient Descent\n",
        "eta = 0.1  # Learning rate\n",
        "n_iterations = 1000\n",
        "m = 100\n",
        "theta = np.random.randn(2,1)  # Inisialisasi acak parameter\n",
        "\n",
        "# Tambahkan x0 = 1 ke setiap fitur untuk bias term\n",
        "X_b = np.c_[np.ones((m,1)), X]\n",
        "\n",
        "# Iterasi gradient descent\n",
        "for iteration in range(n_iterations):\n",
        "    gradients = 2/m * X_b.T.dot(X_b.dot(theta) - y)\n",
        "    theta = theta - eta * gradients\n",
        "\n",
        "print(\"Theta from Gradient Descent:\", theta)\n"
      ],
      "metadata": {
        "colab": {
          "base_uri": "https://localhost:8080/"
        },
        "id": "MGP8gZj2L4oJ",
        "outputId": "e25cc0ad-a39f-4657-c9ec-be386dc0dac3"
      },
      "execution_count": 2,
      "outputs": [
        {
          "output_type": "stream",
          "name": "stdout",
          "text": [
            "Theta from Gradient Descent: [[3.95540851]\n",
            " [3.01242224]]\n"
          ]
        }
      ]
    },
    {
      "cell_type": "code",
      "source": [
        "# Polynomial Regression\n",
        "from sklearn.preprocessing import PolynomialFeatures\n",
        "from sklearn.pipeline import Pipeline\n",
        "from sklearn.linear_model import LinearRegression\n",
        "\n",
        "# Pipeline: polynomial transform + linear regression\n",
        "poly_reg = Pipeline([\n",
        "    (\"poly_features\", PolynomialFeatures(degree=2, include_bias=False)),\n",
        "    (\"lin_reg\", LinearRegression())\n",
        "])\n",
        "poly_reg.fit(X, y)\n",
        "\n",
        "# Prediksi untuk x = 1.5\n",
        "print(\"Polynomial Prediction (x=1.5):\", poly_reg.predict([[1.5]]))"
      ],
      "metadata": {
        "colab": {
          "base_uri": "https://localhost:8080/"
        },
        "id": "b3wXSN5cL63s",
        "outputId": "c3c39379-1649-49b6-ce6b-6acff179a0e4"
      },
      "execution_count": 3,
      "outputs": [
        {
          "output_type": "stream",
          "name": "stdout",
          "text": [
            "Polynomial Prediction (x=1.5): [[8.41590714]]\n"
          ]
        }
      ]
    },
    {
      "cell_type": "code",
      "source": [
        "# Learning Curve Function\n",
        "from sklearn.metrics import mean_squared_error\n",
        "from sklearn.model_selection import train_test_split\n",
        "\n",
        "def plot_learning_curves(model, X, y):\n",
        "    X_train, X_val, y_train, y_val = train_test_split(X, y, test_size=0.2)\n",
        "    train_errors, val_errors = [], []\n",
        "    for m in range(1, len(X_train)):\n",
        "        model.fit(X_train[:m], y_train[:m])\n",
        "        y_train_predict = model.predict(X_train[:m])\n",
        "        y_val_predict = model.predict(X_val)\n",
        "        train_errors.append(mean_squared_error(y_train[:m], y_train_predict))\n",
        "        val_errors.append(mean_squared_error(y_val, y_val_predict))\n",
        "    plt.plot(np.sqrt(train_errors), \"r-+\", label=\"Train\")\n",
        "    plt.plot(np.sqrt(val_errors), \"b-\", label=\"Validation\")\n",
        "    plt.legend()\n",
        "    plt.grid()\n",
        "    plt.ylabel(\"RMSE\")\n",
        "    plt.xlabel(\"Training set size\")\n",
        "    plt.title(\"Learning Curves\")\n",
        "\n",
        "plot_learning_curves(LinearRegression(), X, y)"
      ],
      "metadata": {
        "colab": {
          "base_uri": "https://localhost:8080/",
          "height": 472
        },
        "id": "Q6TGz7uHL7TF",
        "outputId": "2a32bb89-6e55-4441-c931-4b6792a2fc66"
      },
      "execution_count": 4,
      "outputs": [
        {
          "output_type": "display_data",
          "data": {
            "text/plain": [
              "<Figure size 640x480 with 1 Axes>"
            ],
            "image/png": "[encoded data removed]"
          },
          "metadata": {}
        }
      ]
    },
    {
      "cell_type": "code",
      "source": [
        "# Ridge Regression (L2 Regularization)\n",
        "from sklearn.linear_model import Ridge\n",
        "\n",
        "ridge_reg = Ridge(alpha=1, solver=\"cholesky\")\n",
        "ridge_reg.fit(X, y)\n",
        "\n",
        "print(\"Ridge Prediction (x=1.5):\", ridge_reg.predict([[1.5]]))"
      ],
      "metadata": {
        "colab": {
          "base_uri": "https://localhost:8080/"
        },
        "id": "Mi94Imp4L9aG",
        "outputId": "ef45704f-32ca-4d22-900f-6c005c5b8786"
      },
      "execution_count": 5,
      "outputs": [
        {
          "output_type": "stream",
          "name": "stdout",
          "text": [
            "Ridge Prediction (x=1.5): [8.44074098]\n"
          ]
        }
      ]
    },
    {
      "cell_type": "code",
      "source": [
        "# Lasso Regression (L1 Regularization)\n",
        "from sklearn.linear_model import Lasso\n",
        "\n",
        "lasso_reg = Lasso(alpha=0.1)\n",
        "lasso_reg.fit(X, y)\n",
        "\n",
        "print(\"Lasso Prediction (x=1.5):\", lasso_reg.predict([[1.5]]))\n"
      ],
      "metadata": {
        "colab": {
          "base_uri": "https://localhost:8080/"
        },
        "id": "nZFt-V14L_Bw",
        "outputId": "a3781f29-1262-4e3c-dfff-31ba2c4a767b"
      },
      "execution_count": 6,
      "outputs": [
        {
          "output_type": "stream",
          "name": "stdout",
          "text": [
            "Lasso Prediction (x=1.5): [8.36041326]\n"
          ]
        }
      ]
    },
    {
      "cell_type": "code",
      "source": [
        "# Elastic Net = kombinasi L1 dan L2 regularization\n",
        "from sklearn.linear_model import ElasticNet\n",
        "\n",
        "elastic_net = ElasticNet(alpha=0.1, l1_ratio=0.5)\n",
        "elastic_net.fit(X, y)\n",
        "\n",
        "print(\"ElasticNet Prediction (x=1.5):\", elastic_net.predict([[1.5]]))"
      ],
      "metadata": {
        "colab": {
          "base_uri": "https://localhost:8080/"
        },
        "id": "6NPUHlJfMA-B",
        "outputId": "4916517e-235b-49a0-a5f4-54092e30732c"
      },
      "execution_count": 7,
      "outputs": [
        {
          "output_type": "stream",
          "name": "stdout",
          "text": [
            "ElasticNet Prediction (x=1.5): [8.27397999]\n"
          ]
        }
      ]
    },
    {
      "cell_type": "code",
      "source": [
        "# SGD Regressor tanpa regularisasi (early stopping)\n",
        "from sklearn.linear_model import SGDRegressor\n",
        "\n",
        "sgd_reg = SGDRegressor(penalty=None, eta0=0.1, max_iter=1000)\n",
        "sgd_reg.fit(X, y.ravel())\n",
        "\n",
        "print(\"SGD Prediction (x=1.5):\", sgd_reg.predict([[1.5]]))"
      ],
      "metadata": {
        "colab": {
          "base_uri": "https://localhost:8080/"
        },
        "id": "cDligUjbMCfZ",
        "outputId": "bc1531a6-57aa-4210-8ae1-810523690c09"
      },
      "execution_count": 8,
      "outputs": [
        {
          "output_type": "stream",
          "name": "stdout",
          "text": [
            "SGD Prediction (x=1.5): [8.51055173]\n"
          ]
        }
      ]
    }
  ]
}
