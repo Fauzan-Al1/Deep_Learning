{
  "nbformat": 4,
  "nbformat_minor": 0,
  "metadata": {
    "colab": {
      "provenance": [],
      "authorship_tag": "ABX9TyNh6FjptorTHu94w/tyy4M5",
      "include_colab_link": true
    },
    "kernelspec": {
      "name": "python3",
      "display_name": "Python 3"
    },
    "language_info": {
      "name": "python"
    }
  },
  "cells": [
    {
      "cell_type": "markdown",
      "metadata": {
        "id": "view-in-github",
        "colab_type": "text"
      },
      "source": [
        "<a href=\"https://colab.research.google.com/github/Fauzan-Al1/Deep_Learning/blob/main/Chapter1.ipynb\" target=\"_parent\"><img src=\"https://colab.research.google.com/assets/colab-badge.svg\" alt=\"Open In Colab\"/></a>"
      ]
    },
    {
      "cell_type": "code",
      "execution_count": 1,
      "metadata": {
        "colab": {
          "base_uri": "https://localhost:8080/"
        },
        "id": "RXdDlV43jpRc",
        "outputId": "76d3a500-46d4-4c9a-e5fe-3853a5643434"
      },
      "outputs": [
        {
          "output_type": "stream",
          "name": "stdout",
          "text": [
            "RMSE model Linear Regression: 0.7455813830127764\n"
          ]
        }
      ],
      "source": [
        "# Import pustaka yang diperlukan\n",
        "import pandas as pd  # Untuk manipulasi data\n",
        "import numpy as np\n",
        "from sklearn.datasets import fetch_california_housing  # Dataset California\n",
        "from sklearn.model_selection import train_test_split  # Split data\n",
        "from sklearn.linear_model import LinearRegression  # Model regresi\n",
        "from sklearn.metrics import mean_squared_error  # Evaluasi performa\n",
        "\n",
        "# 1. Memuat dataset California Housing\n",
        "housing = fetch_california_housing(as_frame=True)  # Kembalikan dalam bentuk DataFrame\n",
        "df = housing.frame  # Dataset dalam bentuk pandas DataFrame\n",
        "\n",
        "# 2. Memisahkan fitur dan label\n",
        "X = df.drop(\"MedHouseVal\", axis=1)  # Semua kolom kecuali nilai median rumah\n",
        "y = df[\"MedHouseVal\"]  # Target yang ingin diprediksi: harga median rumah\n",
        "\n",
        "# 3. Membagi data menjadi data latih dan data uji (80:20)\n",
        "X_train, X_test, y_train, y_test = train_test_split(\n",
        "    X, y, test_size=0.2, random_state=42\n",
        ")\n",
        "\n",
        "# 4. Membuat dan melatih model Linear Regression\n",
        "model = LinearRegression()\n",
        "model.fit(X_train, y_train)\n",
        "\n",
        "# 5. Melakukan prediksi pada data uji\n",
        "y_pred = model.predict(X_test)\n",
        "\n",
        "# 6. Evaluasi model menggunakan Root Mean Squared Error (RMSE)\n",
        "mse = mean_squared_error(y_test, y_pred)\n",
        "rmse = np.sqrt(mse)\n",
        "\n",
        "print(\"RMSE model Linear Regression:\", rmse)"
      ]
    }
  ]
}